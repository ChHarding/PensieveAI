{
 "cells": [
  {
   "cell_type": "code",
   "execution_count": 2,
   "metadata": {},
   "outputs": [
    {
     "name": "stdout",
     "output_type": "stream",
     "text": [
      "<h3>Sample Markdown</h3>\n",
      "\n",
      "<ul>\n",
      "<li>This is a sample markdown content.</li>\n",
      "</ul>\n",
      "\n",
      "<ol>\n",
      "<li>First item</li>\n",
      "<li>Second item</li>\n",
      "<li>Third item</li>\n",
      "</ol>\n",
      "\n",
      "<ul>\n",
      "<li>This is a list item.</li>\n",
      "</ul>\n",
      "\n",
      "PDF created: output.pdf\n"
     ]
    }
   ],
   "source": [
    "import markdown2\n",
    "from xhtml2pdf import pisa\n",
    "\n",
    "# Sample markdown content\n",
    "markdown_content = \"\"\"\n",
    "### Sample Markdown\n",
    "- This is a sample markdown content.\n",
    "1. First item\n",
    "2. Second item\n",
    "3. Third item\n",
    "- This is a list item.\n",
    "\"\"\"\n",
    "\n",
    "# Convert markdown to HTML\n",
    "html_content = markdown2.markdown(markdown_content)\n",
    "print(html_content)\n",
    "\n",
    "def convert_html_to_pdf(source_html, output_filename):\n",
    "    result_file = open(output_filename, \"w+b\")\n",
    "    pisa_status = pisa.CreatePDF(source_html, dest=result_file)\n",
    "    result_file.close()\n",
    "    return pisa_status.err\n",
    "\n",
    "# Convert HTML to PDF\n",
    "pdf_file = \"output.pdf\"\n",
    "convert_html_to_pdf(html_content, pdf_file)\n",
    "\n",
    "print(f\"PDF created: {pdf_file}\")"
   ]
  }
 ],
 "metadata": {
  "kernelspec": {
   "display_name": "Python 3",
   "language": "python",
   "name": "python3"
  },
  "language_info": {
   "codemirror_mode": {
    "name": "ipython",
    "version": 3
   },
   "file_extension": ".py",
   "mimetype": "text/x-python",
   "name": "python",
   "nbconvert_exporter": "python",
   "pygments_lexer": "ipython3",
   "version": "3.12.1"
  }
 },
 "nbformat": 4,
 "nbformat_minor": 2
}
